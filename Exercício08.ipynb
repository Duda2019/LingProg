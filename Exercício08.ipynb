{
 "cells": [
  {
   "cell_type": "markdown",
   "metadata": {},
   "source": [
    "1 - Escreva uma função que calcula a soma dos n primeiros números naturais, dado\n",
    "que n é recebido como parâmetro. Escreva um decorator que garanta que o valor\n",
    "recebido é natural (maior ou igual a 1)."
   ]
  },
  {
   "cell_type": "code",
   "execution_count": null,
   "metadata": {},
   "outputs": [],
   "source": [
    "def soma (x, y):\n",
    "return x + y\n",
    "add = soma\n",
    "add (2, 2)\n"
   ]
  },
  {
   "cell_type": "markdown",
   "metadata": {},
   "source": [
    "2 - Escreva uma função que recebe uma lista de triplas e, para cada uma, gera uma\n",
    "equação do segundo grau considerando que os elementos da tripla são os\n",
    "coeficientes usualmente denominados a, b e c da equação. Note que a sua função\n",
    "deverá devolver uma lista de equações. A geração das equações deve ser feita por\n",
    "meio de, evidentemente, decorators."
   ]
  },
  {
   "cell_type": "code",
   "execution_count": null,
   "metadata": {},
   "outputs": [],
   "source": [
    "def dobra_cada_um (lista):\n",
    "    def dobra_um (x):\n",
    "        return 2 * x\n",
    "    return [dobra_um(j) for j in lista]\n",
    "\n",
    "\n",
    "def aplica_a_todos (lista, funcao):\n",
    "    return [funcao(x) for x in lista]\n",
    "\n",
    "def quadrado (x):\n",
    "    return x ** 2\n",
    "\n",
    "def cubo (x):\n",
    "    return x ** 3\n",
    "\n",
    "lista = [1, 2, 3]\n",
    "\n",
    "print (aplica_a_todos(lista, quadrado))\n",
    "print (aplica_a_todos(lista, cubo))\n",
    "\n",
    "def coeficientes (a, b, c):\n",
    "    def eq_seg_grau (x):\n",
    "        return a * (x ** 2) + b * x + c\n",
    "    return eq_seg_grau\n",
    "\n",
    "print (coeficientes(1, 2, 3)(1))\n",
    "\n",
    "equacao = coeficientes (1, 2, 3)\n",
    "\n",
    "print (equacao (1))"
   ]
  },
  {
   "cell_type": "markdown",
   "metadata": {},
   "source": [
    "3 - Escreva uma função que exibe uma lista recebida como parâmetro. Ela deve,\n",
    "contudo, ordenar a lista antes. A ordenação deve ser feita por meio de um\n",
    "decorator"
   ]
  },
  {
   "cell_type": "code",
   "execution_count": null,
   "metadata": {},
   "outputs": [],
   "source": [
    "def hello (msg):\n",
    "    a = 2\n",
    "    def hello_decorator (funcao):\n",
    "        def fala ():\n",
    "            print (msg)\n",
    "            funcao()\n",
    "        return fala\n",
    "    return hello_decorator\n",
    "\n",
    "@hello (\"Antes\")\n",
    "def teste_pt ():\n",
    "    print (\"Executando teste...\")\n",
    "@hello (\"Before\")\n",
    "def teste_en ():\n",
    "    print (\"Running test\")\n",
    "\n",
    "teste_pt()\n",
    "teste_en()\n"
   ]
  },
  {
   "cell_type": "markdown",
   "metadata": {},
   "source": [
    "4 -  Escreva uma classe para representar um café que, a princípio, tem somente preço.\n",
    "Um cafezinho custa 5 reais. Escreva classes para representar os adicionais: palitos de\n",
    "chocolate (0,50 cents), espuma de leite (0,20 cents), caramelo (0,10 cents) e canela\n",
    "(0,30 cents). Crie um objeto café e, a seguir, faça um menuzinho em que o usuário\n",
    "pode ficar indefinidamente escolhendo adicionais: 1 para chocolate, 2 para espuma\n",
    "de leite, 3 para caramelo e 4 para canela. A cada adicional escolhido, decore o objeto\n",
    "café. No final, mostre o preço total."
   ]
  },
  {
   "cell_type": "code",
   "execution_count": null,
   "metadata": {},
   "outputs": [],
   "source": []
  },
  {
   "cell_type": "code",
   "execution_count": null,
   "metadata": {},
   "outputs": [],
   "source": []
  }
 ],
 "metadata": {
  "kernelspec": {
   "display_name": "Python 3",
   "language": "python",
   "name": "python3"
  },
  "language_info": {
   "codemirror_mode": {
    "name": "ipython",
    "version": 3
   },
   "file_extension": ".py",
   "mimetype": "text/x-python",
   "name": "python",
   "nbconvert_exporter": "python",
   "pygments_lexer": "ipython3",
   "version": "3.7.3"
  }
 },
 "nbformat": 4,
 "nbformat_minor": 2
}
