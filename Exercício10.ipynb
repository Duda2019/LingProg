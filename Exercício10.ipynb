{
 "cells": [
  {
   "cell_type": "markdown",
   "metadata": {},
   "source": [
    "1 - Implemente um gerador infinito de números primos.\n",
    "- Ex:\n",
    "i = 0\n",
    "while i < 10:\n",
    " print(gera_primos())\n",
    "i += 1\n",
    "Este código imprime os 10 primeiros números primos, isto é: 1, 2, 3, 5, 7, 11, 13, 17,\n",
    "19, 23."
   ]
  },
  {
   "cell_type": "code",
   "execution_count": null,
   "metadata": {},
   "outputs": [],
   "source": [
    "\n",
    "import sys\n",
    "def gerar_primos():\n",
    "    primos = 1\n",
    "    yield primos\n",
    "    for numero in range(sys.maxsize**10):\n",
    "        for auxiliar in range(2, numero):\n",
    "            if numero % auxiliar == 0:\n",
    "                break\n",
    "        else:\n",
    "            primos = numero\n",
    "            print(primos)\n",
    "\n",
    "for i in gerar_primos():\n",
    "    print(i)"
   ]
  },
  {
   "cell_type": "markdown",
   "metadata": {},
   "source": [
    "2 - Implementar um gerador que leia um arquivo e retorne uma lista de tuplas com os\n",
    "dados (o separador de campo do arquivo é virgula), eliminando as linhas vazias. Caso\n",
    "ocorra algum problema, imprima uma mensagem de aviso e encerre o programa.\n",
    "Use o exemplo abaixo como arquivo de entrada:\n",
    "- Ex:\n",
    "Entrada:\n",
    "teste.txt\n",
    "1,vermelho,2,verde,3,amarelo,4,roxo\n",
    "5,verde,6,preto,7,laranja,8,amarelo\n",
    "9,preto,10,roxo,11,roxo,12,branco\n",
    "Chamada:\n",
    "gera_tupla(teste.txt)\n",
    "Retorno:\n",
    "[(1,'vermelho'),(2,'verde'),(3,'amarelo'),(4,'roxo'),\n",
    "(5,'verde'),(6,'preto'),(7,'laranja'),(8,'amarelo'),\n",
    "(9,'preto'),(10,'roxo'),(11,'roxo'),(12,'branco')]\n"
   ]
  },
  {
   "cell_type": "code",
   "execution_count": null,
   "metadata": {},
   "outputs": [],
   "source": []
  },
  {
   "cell_type": "markdown",
   "metadata": {},
   "source": [
    "3 - Implementar dois geradores e rodá-los em paralelo (coroutine) para processar dois\n",
    "arquivos e gerar tuplas. O primeiro é similar ao do exercício 2. O segundo processa\n",
    "outro arquivo, também separado por vírgulas. No final, a lista gerada deve conter\n",
    "tuplas com 3 elementos. Use o exemplo baixo como base:\n",
    "- Entrada:\n",
    "teste1.txt\n",
    "1,vermelho,2,verde,3,amarelo,4,roxo\n",
    "5,verde,6,preto,7,laranja,8,amarelo\n",
    "9,preto,10,roxo,11,roxo,12,branco\n",
    "teste2.txt\n",
    "0,1,0,0\n",
    "1,1,1,0\n",
    "1,0,0,1\n",
    "- Chamada:\n",
    "gera_tupla1(teste1.txt), gera_tupla2(teste2.txt)\n",
    "- Retorno:\n",
    "[(1,'vermelho',False),(2,'verde',True),(3,'amarelo',False),\n",
    "(4,'roxo',False),(5,'verde',True),(6,'preto',True),\n",
    "(7,'laranja',True),(8,'amarelo',False),(9,'preto',True),\n",
    "(10,'roxo',False),(11,'roxo',False),(12,'branco',True)]\n"
   ]
  },
  {
   "cell_type": "code",
   "execution_count": null,
   "metadata": {},
   "outputs": [],
   "source": []
  },
  {
   "cell_type": "markdown",
   "metadata": {},
   "source": [
    "4 - Escreva um generator que crie um fluxo infinito de inteiros a partir de um valor\n",
    "inicial dado com passo 5.\n",
    "Ex: gera_inteiros(7) = 12, 17, 22, 27, ..."
   ]
  },
  {
   "cell_type": "code",
   "execution_count": null,
   "metadata": {},
   "outputs": [],
   "source": []
  },
  {
   "cell_type": "code",
   "execution_count": null,
   "metadata": {},
   "outputs": [],
   "source": []
  }
 ],
 "metadata": {
  "kernelspec": {
   "display_name": "Python 3",
   "language": "python",
   "name": "python3"
  },
  "language_info": {
   "codemirror_mode": {
    "name": "ipython",
    "version": 3
   },
   "file_extension": ".py",
   "mimetype": "text/x-python",
   "name": "python",
   "nbconvert_exporter": "python",
   "pygments_lexer": "ipython3",
   "version": "3.7.3"
  }
 },
 "nbformat": 4,
 "nbformat_minor": 2
}
